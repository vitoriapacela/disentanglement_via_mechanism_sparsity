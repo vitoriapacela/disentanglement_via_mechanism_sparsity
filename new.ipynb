{
 "cells": [
  {
   "cell_type": "code",
   "execution_count": 1,
   "metadata": {},
   "outputs": [],
   "source": [
    "import argparse\n",
    "import os\n",
    "import sys\n",
    "import json\n",
    "import shutil\n",
    "import pathlib\n",
    "import random\n",
    "from itertools import islice\n",
    "import time\n",
    "from copy import deepcopy\n",
    "import math\n",
    "from pprint import pprint\n",
    "from qj_global import qj\n",
    "import logging\n",
    "\n",
    "try:\n",
    "    from comet_ml import Experiment\n",
    "    COMET_AVAIL = True\n",
    "except:\n",
    "    COMET_AVAIL = False\n",
    "\n",
    "import matplotlib.pyplot as plt\n",
    "import numpy as np\n",
    "import torch\n",
    "import torch.nn.functional as F\n",
    "import torch.optim as optim\n",
    "import torch.utils.data as data\n",
    "\n",
    "from ignite.engine import Engine, Events\n",
    "from ignite.handlers import Checkpoint, DiskSaver, Timer, TerminateOnNan, TimeLimit\n",
    "from ignite.metrics import RunningAverage\n",
    "from ignite.contrib.metrics import GpuInfo\n",
    "from ignite.utils import setup_logger\n",
    "\n",
    "# adding the folder containing the folder `disentanglement_via_mechanism_sparsity` to sys.path\n",
    "# sys.path.insert(0, str(pathlib.Path(__file__).parent.parent))\n",
    "sys.path.insert(0, str('/Users/vitoria/Documents/GitHub/'))\n",
    "from disentanglement_via_mechanism_sparsity.universal_logger.logger import UniversalLogger\n",
    "from disentanglement_via_mechanism_sparsity.metrics import MyMetrics, linear_regression_metric, mean_corr_coef, edge_errors\n",
    "from disentanglement_via_mechanism_sparsity.plot import plot_01_matrix\n",
    "from disentanglement_via_mechanism_sparsity.data.synthetic import get_ToyManifoldDatasets\n",
    "from disentanglement_via_mechanism_sparsity.model.ilcm_vae import ILCM_VAE\n",
    "from disentanglement_via_mechanism_sparsity.model.latent_models_vae import FCGaussianLatentModel\n"
   ]
  },
  {
   "cell_type": "code",
   "execution_count": 2,
   "metadata": {},
   "outputs": [],
   "source": [
    "manifold = \"nn\"\n",
    "transition_model = \"simplest_discrete\""
   ]
  },
  {
   "cell_type": "code",
   "execution_count": 3,
   "metadata": {},
   "outputs": [
    {
     "name": "stderr",
     "output_type": "stream",
     "text": [
      "/Users/vitoria/Documents/GitHub/disentanglement_via_mechanism_sparsity/data/synthetic.py:79: UserWarning: To copy construct from a tensor, it is recommended to use sourceTensor.clone().detach() or sourceTensor.clone().detach().requires_grad_(True), rather than torch.tensor(sourceTensor).\n",
      "  z = torch.tensor(z, dtype=dtype).to(device)\n"
     ]
    }
   ],
   "source": [
    "datasets = get_ToyManifoldDatasets(manifold, transition_model, split=(0.8, 0.1, 0.1),\n",
    "                                       z_dim=2, x_dim=6, num_samples=100,\n",
    "                                       no_norm=True, discrete=True)"
   ]
  },
  {
   "cell_type": "code",
   "execution_count": 4,
   "metadata": {},
   "outputs": [
    {
     "data": {
      "text/plain": [
       "(tensor([[[ 0.0039,  0.0235, -0.0282, -0.0366, -0.0108,  0.0056],\n",
       "          [ 0.0258,  0.0190,  0.0213,  0.0121,  0.0041, -0.0124]]]),\n",
       " tensor([3., 2.]),\n",
       " tensor([0]),\n",
       " True,\n",
       " array([], shape=(0, 2, 4), dtype=float64),\n",
       " tensor([[[2., 0.],\n",
       "          [2., 3.]]], dtype=torch.float64),\n",
       " tensor([[[ 0.0039,  0.0235, -0.0282, -0.0366, -0.0108,  0.0056],\n",
       "          [ 0.0258,  0.0190,  0.0213,  0.0121,  0.0041, -0.0124]]]))"
      ]
     },
     "execution_count": 4,
     "metadata": {},
     "output_type": "execute_result"
    }
   ],
   "source": [
    "datasets[-3].__getitem__(5)"
   ]
  },
  {
   "cell_type": "code",
   "execution_count": null,
   "metadata": {},
   "outputs": [],
   "source": [
    "datasets[-3].__getitem__(5)[]"
   ]
  },
  {
   "cell_type": "code",
   "execution_count": 5,
   "metadata": {},
   "outputs": [
    {
     "data": {
      "text/plain": [
       "(tensor([[[ 0.0019,  0.0118, -0.0141, -0.0183, -0.0054,  0.0028],\n",
       "          [ 0.0000,  0.0000,  0.0000,  0.0000,  0.0000,  0.0000]]]),\n",
       " tensor([3., 2.]),\n",
       " tensor([0]),\n",
       " True,\n",
       " array([], shape=(0, 2, 4), dtype=float64),\n",
       " tensor([[[1., 0.],\n",
       "          [0., 0.]]], dtype=torch.float64),\n",
       " tensor([[[ 0.0019,  0.0118, -0.0141, -0.0183, -0.0054,  0.0028],\n",
       "          [ 0.0000,  0.0000,  0.0000,  0.0000,  0.0000,  0.0000]]]))"
      ]
     },
     "execution_count": 5,
     "metadata": {},
     "output_type": "execute_result"
    }
   ],
   "source": [
    "datasets[-3].__getitem__(6)"
   ]
  },
  {
   "cell_type": "code",
   "execution_count": 3,
   "metadata": {},
   "outputs": [],
   "source": [
    "import numpy as np"
   ]
  },
  {
   "cell_type": "code",
   "execution_count": 4,
   "metadata": {},
   "outputs": [],
   "source": [
    "num_samples=100\n",
    "z_dim=2\n",
    "k=3"
   ]
  },
  {
   "cell_type": "code",
   "execution_count": 5,
   "metadata": {},
   "outputs": [],
   "source": [
    "a = np.random.choice(k,(num_samples, z_dim))"
   ]
  },
  {
   "cell_type": "code",
   "execution_count": 6,
   "metadata": {},
   "outputs": [
    {
     "data": {
      "text/plain": [
       "(100, 2)"
      ]
     },
     "execution_count": 6,
     "metadata": {},
     "output_type": "execute_result"
    }
   ],
   "source": [
    "a.shape"
   ]
  },
  {
   "cell_type": "code",
   "execution_count": 33,
   "metadata": {},
   "outputs": [
    {
     "ename": "NameError",
     "evalue": "name 'z' is not defined",
     "output_type": "error",
     "traceback": [
      "\u001b[0;31m---------------------------------------------------------------------------\u001b[0m",
      "\u001b[0;31mNameError\u001b[0m                                 Traceback (most recent call last)",
      "\u001b[0;32m<ipython-input-33-3a710d2a84f8>\u001b[0m in \u001b[0;36m<module>\u001b[0;34m\u001b[0m\n\u001b[0;32m----> 1\u001b[0;31m \u001b[0mz\u001b[0m\u001b[0;34m\u001b[0m\u001b[0;34m\u001b[0m\u001b[0m\n\u001b[0m",
      "\u001b[0;31mNameError\u001b[0m: name 'z' is not defined"
     ]
    }
   ],
   "source": []
  },
  {
   "cell_type": "code",
   "execution_count": 7,
   "metadata": {},
   "outputs": [],
   "source": [
    "G = torch.eye(2)"
   ]
  },
  {
   "cell_type": "code",
   "execution_count": 8,
   "metadata": {},
   "outputs": [
    {
     "data": {
      "text/plain": [
       "tensor([[1., 0.],\n",
       "        [0., 1.]])"
      ]
     },
     "execution_count": 8,
     "metadata": {},
     "output_type": "execute_result"
    }
   ],
   "source": [
    "G"
   ]
  },
  {
   "cell_type": "code",
   "execution_count": 9,
   "metadata": {},
   "outputs": [
    {
     "data": {
      "text/plain": [
       "tensor([1., 0.])"
      ]
     },
     "execution_count": 9,
     "metadata": {},
     "output_type": "execute_result"
    }
   ],
   "source": [
    "G[a[1,0]]"
   ]
  },
  {
   "cell_type": "code",
   "execution_count": 36,
   "metadata": {},
   "outputs": [
    {
     "data": {
      "text/plain": [
       "array([2, 1])"
      ]
     },
     "execution_count": 36,
     "metadata": {},
     "output_type": "execute_result"
    }
   ],
   "source": [
    "a[0]"
   ]
  },
  {
   "cell_type": "code",
   "execution_count": 37,
   "metadata": {},
   "outputs": [
    {
     "data": {
      "text/plain": [
       "2"
      ]
     },
     "execution_count": 37,
     "metadata": {},
     "output_type": "execute_result"
    }
   ],
   "source": [
    "a[0,0]"
   ]
  },
  {
   "cell_type": "code",
   "execution_count": 38,
   "metadata": {},
   "outputs": [],
   "source": [
    "G = np.eye(2)"
   ]
  },
  {
   "cell_type": "code",
   "execution_count": 39,
   "metadata": {},
   "outputs": [
    {
     "data": {
      "text/plain": [
       "array([[1., 0.],\n",
       "       [0., 1.]])"
      ]
     },
     "execution_count": 39,
     "metadata": {},
     "output_type": "execute_result"
    }
   ],
   "source": [
    "G"
   ]
  },
  {
   "cell_type": "code",
   "execution_count": 40,
   "metadata": {},
   "outputs": [
    {
     "data": {
      "text/plain": [
       "100"
      ]
     },
     "execution_count": 40,
     "metadata": {},
     "output_type": "execute_result"
    }
   ],
   "source": [
    "len(a)"
   ]
  },
  {
   "cell_type": "code",
   "execution_count": 37,
   "metadata": {},
   "outputs": [],
   "source": [
    "aa = torch.Tensor(a)"
   ]
  },
  {
   "cell_type": "code",
   "execution_count": 38,
   "metadata": {},
   "outputs": [
    {
     "data": {
      "text/plain": [
       "torch.float32"
      ]
     },
     "execution_count": 38,
     "metadata": {},
     "output_type": "execute_result"
    }
   ],
   "source": [
    "aa.dtype"
   ]
  },
  {
   "cell_type": "code",
   "execution_count": 39,
   "metadata": {},
   "outputs": [
    {
     "data": {
      "text/plain": [
       "tensor([[0., 1.],\n",
       "        [0., 1.],\n",
       "        [2., 1.],\n",
       "        [2., 1.],\n",
       "        [1., 2.],\n",
       "        [1., 0.],\n",
       "        [0., 1.],\n",
       "        [2., 2.],\n",
       "        [2., 1.],\n",
       "        [1., 0.],\n",
       "        [0., 1.],\n",
       "        [0., 0.],\n",
       "        [2., 2.],\n",
       "        [0., 1.],\n",
       "        [2., 2.],\n",
       "        [1., 2.],\n",
       "        [2., 1.],\n",
       "        [2., 2.],\n",
       "        [1., 1.],\n",
       "        [1., 0.],\n",
       "        [1., 0.],\n",
       "        [1., 2.],\n",
       "        [0., 1.],\n",
       "        [2., 1.],\n",
       "        [0., 0.],\n",
       "        [0., 2.],\n",
       "        [1., 1.],\n",
       "        [2., 1.],\n",
       "        [0., 0.],\n",
       "        [0., 1.],\n",
       "        [2., 1.],\n",
       "        [1., 0.],\n",
       "        [1., 2.],\n",
       "        [0., 0.],\n",
       "        [2., 0.],\n",
       "        [2., 2.],\n",
       "        [0., 1.],\n",
       "        [2., 1.],\n",
       "        [1., 0.],\n",
       "        [0., 0.],\n",
       "        [1., 2.],\n",
       "        [0., 0.],\n",
       "        [1., 2.],\n",
       "        [1., 0.],\n",
       "        [0., 0.],\n",
       "        [2., 2.],\n",
       "        [1., 2.],\n",
       "        [2., 2.],\n",
       "        [2., 0.],\n",
       "        [0., 0.],\n",
       "        [1., 2.],\n",
       "        [0., 2.],\n",
       "        [2., 2.],\n",
       "        [0., 0.],\n",
       "        [2., 0.],\n",
       "        [1., 1.],\n",
       "        [2., 2.],\n",
       "        [1., 1.],\n",
       "        [1., 0.],\n",
       "        [0., 2.],\n",
       "        [1., 0.],\n",
       "        [1., 0.],\n",
       "        [1., 0.],\n",
       "        [2., 0.],\n",
       "        [1., 2.],\n",
       "        [0., 0.],\n",
       "        [0., 2.],\n",
       "        [0., 1.],\n",
       "        [2., 1.],\n",
       "        [0., 1.],\n",
       "        [1., 0.],\n",
       "        [1., 0.],\n",
       "        [1., 0.],\n",
       "        [0., 1.],\n",
       "        [0., 0.],\n",
       "        [2., 2.],\n",
       "        [2., 2.],\n",
       "        [1., 0.],\n",
       "        [2., 0.],\n",
       "        [0., 2.],\n",
       "        [1., 2.],\n",
       "        [1., 1.],\n",
       "        [0., 0.],\n",
       "        [0., 0.],\n",
       "        [2., 2.],\n",
       "        [0., 2.],\n",
       "        [2., 1.],\n",
       "        [0., 0.],\n",
       "        [1., 0.],\n",
       "        [2., 2.],\n",
       "        [0., 1.],\n",
       "        [2., 2.],\n",
       "        [2., 1.],\n",
       "        [0., 0.],\n",
       "        [2., 1.],\n",
       "        [0., 0.],\n",
       "        [1., 2.],\n",
       "        [1., 2.],\n",
       "        [1., 2.],\n",
       "        [1., 1.]])"
      ]
     },
     "execution_count": 39,
     "metadata": {},
     "output_type": "execute_result"
    }
   ],
   "source": [
    "aa"
   ]
  },
  {
   "cell_type": "code",
   "execution_count": 10,
   "metadata": {},
   "outputs": [],
   "source": [
    "lambda_0 = np.random.normal(size=(z_dim, k))"
   ]
  },
  {
   "cell_type": "code",
   "execution_count": 11,
   "metadata": {},
   "outputs": [
    {
     "data": {
      "text/plain": [
       "(2, 3)"
      ]
     },
     "execution_count": 11,
     "metadata": {},
     "output_type": "execute_result"
    }
   ],
   "source": [
    "lambda_0.shape"
   ]
  },
  {
   "cell_type": "code",
   "execution_count": 12,
   "metadata": {},
   "outputs": [],
   "source": [
    "n = np.random.normal(size=(z_dim, k))"
   ]
  },
  {
   "cell_type": "code",
   "execution_count": 13,
   "metadata": {},
   "outputs": [
    {
     "data": {
      "text/plain": [
       "(2, 3)"
      ]
     },
     "execution_count": 13,
     "metadata": {},
     "output_type": "execute_result"
    }
   ],
   "source": [
    "n.shape"
   ]
  },
  {
   "cell_type": "code",
   "execution_count": 14,
   "metadata": {},
   "outputs": [
    {
     "data": {
      "text/plain": [
       "(100, 2)"
      ]
     },
     "execution_count": 14,
     "metadata": {},
     "output_type": "execute_result"
    }
   ],
   "source": [
    "a.shape"
   ]
  },
  {
   "cell_type": "code",
   "execution_count": 17,
   "metadata": {},
   "outputs": [],
   "source": [
    "lambdas = np.zeros(shape=(z_dim, z_dim, k)) # here, the first z_dim is the number of groups"
   ]
  },
  {
   "cell_type": "code",
   "execution_count": 18,
   "metadata": {},
   "outputs": [
    {
     "data": {
      "text/plain": [
       "(2, 2, 3)"
      ]
     },
     "execution_count": 18,
     "metadata": {},
     "output_type": "execute_result"
    }
   ],
   "source": [
    "lambdas.shape"
   ]
  },
  {
   "cell_type": "code",
   "execution_count": 21,
   "metadata": {},
   "outputs": [
    {
     "data": {
      "text/plain": [
       "(2, 2, 1)"
      ]
     },
     "execution_count": 21,
     "metadata": {},
     "output_type": "execute_result"
    }
   ],
   "source": [
    "(np.expand_dims(G[a[0]],-1)).shape"
   ]
  },
  {
   "cell_type": "code",
   "execution_count": 22,
   "metadata": {},
   "outputs": [
    {
     "data": {
      "text/plain": [
       "(2, 3)"
      ]
     },
     "execution_count": 22,
     "metadata": {},
     "output_type": "execute_result"
    }
   ],
   "source": [
    "n.shape"
   ]
  },
  {
   "cell_type": "code",
   "execution_count": 32,
   "metadata": {},
   "outputs": [
    {
     "data": {
      "text/plain": [
       "tensor([[1., 0.],\n",
       "        [0., 1.]])"
      ]
     },
     "execution_count": 32,
     "metadata": {},
     "output_type": "execute_result"
    }
   ],
   "source": [
    "G[a[0]]"
   ]
  },
  {
   "cell_type": "code",
   "execution_count": 25,
   "metadata": {},
   "outputs": [],
   "source": [
    "t = np.expand_dims(G[a[0]],-1) * n[0]"
   ]
  },
  {
   "cell_type": "code",
   "execution_count": 26,
   "metadata": {},
   "outputs": [
    {
     "data": {
      "text/plain": [
       "(2, 2, 3)"
      ]
     },
     "execution_count": 26,
     "metadata": {},
     "output_type": "execute_result"
    }
   ],
   "source": [
    "t.shape"
   ]
  },
  {
   "cell_type": "code",
   "execution_count": 31,
   "metadata": {},
   "outputs": [
    {
     "data": {
      "text/plain": [
       "array([[1.41616621, 0.        ],\n",
       "       [0.        , 1.41616621]])"
      ]
     },
     "execution_count": 31,
     "metadata": {},
     "output_type": "execute_result"
    }
   ],
   "source": [
    "t[:,:,0]"
   ]
  },
  {
   "cell_type": "code",
   "execution_count": 28,
   "metadata": {},
   "outputs": [
    {
     "data": {
      "text/plain": [
       "tensor([[1., 0.],\n",
       "        [0., 1.]])"
      ]
     },
     "execution_count": 28,
     "metadata": {},
     "output_type": "execute_result"
    }
   ],
   "source": [
    "G"
   ]
  },
  {
   "cell_type": "code",
   "execution_count": 30,
   "metadata": {},
   "outputs": [
    {
     "data": {
      "text/plain": [
       "array([1.41616621, 0.55500264, 0.20586224])"
      ]
     },
     "execution_count": 30,
     "metadata": {},
     "output_type": "execute_result"
    }
   ],
   "source": [
    "n[0]"
   ]
  },
  {
   "cell_type": "code",
   "execution_count": null,
   "metadata": {},
   "outputs": [],
   "source": [
    "# This is weird. I thought we could get rid of the second d_z and contract it into 1. But I was expecting them to have the same values."
   ]
  },
  {
   "cell_type": "code",
   "execution_count": 25,
   "metadata": {},
   "outputs": [
    {
     "data": {
      "text/plain": [
       "array([[[[-1.46722238,  0.72336856,  1.32894517],\n",
       "         [-1.47673627, -0.04263916,  0.37372134]],\n",
       "\n",
       "        [[-0.01326652, -0.38974422, -0.21319078],\n",
       "         [-0.34204375,  0.22373867, -0.03099414]]],\n",
       "\n",
       "\n",
       "       [[[ 1.36641534, -0.36391423,  0.30015071],\n",
       "         [ 0.99772384,  0.06838315,  0.39109255]],\n",
       "\n",
       "        [[ 0.95288259, -2.52470365,  1.63716599],\n",
       "         [ 1.75858699, -0.56105825,  1.05611458]]],\n",
       "\n",
       "\n",
       "       [[[ 1.43709595, -1.93034025,  0.85220544],\n",
       "         [ 0.07326837,  0.04003866, -0.41417918]],\n",
       "\n",
       "        [[-1.09000431,  0.517375  , -1.37801444],\n",
       "         [ 0.8531244 ,  0.45127992, -0.72764782]]],\n",
       "\n",
       "\n",
       "       ...,\n",
       "\n",
       "\n",
       "       [[[ 0.38455862, -0.87007811, -0.75461628],\n",
       "         [ 0.213999  , -0.66068732, -0.68987234]],\n",
       "\n",
       "        [[-0.57976271,  1.00780638, -2.07873712],\n",
       "         [-0.90562209,  0.55869455, -0.1110131 ]]],\n",
       "\n",
       "\n",
       "       [[[-0.98467735, -0.79970502, -0.51859711],\n",
       "         [-2.21174478, -1.46944905, -1.0256234 ]],\n",
       "\n",
       "        [[-0.10618734, -0.3975162 , -0.2255128 ],\n",
       "         [-0.37870687, -0.84267578,  0.34210657]]],\n",
       "\n",
       "\n",
       "       [[[ 1.34383159, -0.33242849,  0.58152241],\n",
       "         [ 0.21628403,  0.99002406,  0.53616734]],\n",
       "\n",
       "        [[ 0.40263193, -1.0975652 , -0.69640541],\n",
       "         [-0.11585379, -0.20908625,  0.40389556]]]])"
      ]
     },
     "execution_count": 25,
     "metadata": {},
     "output_type": "execute_result"
    }
   ],
   "source": [
    "lambdas"
   ]
  },
  {
   "cell_type": "code",
   "execution_count": 26,
   "metadata": {},
   "outputs": [
    {
     "name": "stdout",
     "output_type": "stream",
     "text": [
      "i 0\n",
      "j 0\n",
      "idx 0\n",
      "[1. 0.]\n",
      "---\n",
      "j 1\n",
      "idx 1\n",
      "[0. 1.]\n",
      "---\n",
      "i 1\n",
      "j 0\n",
      "idx 1\n",
      "[0. 1.]\n",
      "---\n",
      "j 1\n",
      "idx 0\n",
      "[1. 0.]\n",
      "---\n",
      "i 2\n",
      "j 0\n",
      "idx 0\n",
      "[1. 0.]\n",
      "---\n",
      "j 1\n",
      "idx 1\n",
      "[0. 1.]\n",
      "---\n",
      "i 3\n",
      "j 0\n",
      "idx 0\n",
      "[1. 0.]\n",
      "---\n",
      "j 1\n",
      "idx 0\n",
      "[1. 0.]\n",
      "---\n",
      "i 4\n",
      "j 0\n",
      "idx 0\n",
      "[1. 0.]\n",
      "---\n",
      "j 1\n",
      "idx 1\n",
      "[0. 1.]\n",
      "---\n",
      "i 5\n",
      "j 0\n",
      "idx 0\n",
      "[1. 0.]\n",
      "---\n",
      "j 1\n",
      "idx 0\n",
      "[1. 0.]\n",
      "---\n",
      "i 6\n",
      "j 0\n",
      "idx 0\n",
      "[1. 0.]\n",
      "---\n",
      "j 1\n",
      "idx 0\n",
      "[1. 0.]\n",
      "---\n",
      "i 7\n",
      "j 0\n",
      "idx 0\n",
      "[1. 0.]\n",
      "---\n",
      "j 1\n",
      "idx 0\n",
      "[1. 0.]\n",
      "---\n",
      "i 8\n",
      "j 0\n",
      "idx 0\n",
      "[1. 0.]\n",
      "---\n",
      "j 1\n",
      "idx 0\n",
      "[1. 0.]\n",
      "---\n",
      "i 9\n",
      "j 0\n",
      "idx 1\n",
      "[0. 1.]\n",
      "---\n",
      "j 1\n",
      "idx 0\n",
      "[1. 0.]\n",
      "---\n"
     ]
    }
   ],
   "source": [
    "for i in range(len(a)):\n",
    "    print('i', i)\n",
    "    for j in range(2):\n",
    "        print('j', j)\n",
    "        idx = a[i,j]\n",
    "        print('idx', idx)\n",
    "        print(G[idx])\n",
    "        print('---')"
   ]
  },
  {
   "cell_type": "code",
   "execution_count": 27,
   "metadata": {},
   "outputs": [
    {
     "data": {
      "text/plain": [
       "array([[0, 1],\n",
       "       [1, 0],\n",
       "       [0, 1],\n",
       "       [0, 0],\n",
       "       [0, 1],\n",
       "       [0, 0],\n",
       "       [0, 0],\n",
       "       [0, 0],\n",
       "       [0, 0],\n",
       "       [1, 0]])"
      ]
     },
     "execution_count": 27,
     "metadata": {},
     "output_type": "execute_result"
    }
   ],
   "source": [
    "a"
   ]
  },
  {
   "cell_type": "code",
   "execution_count": 28,
   "metadata": {},
   "outputs": [
    {
     "data": {
      "text/plain": [
       "array([[1., 0.],\n",
       "       [0., 1.]])"
      ]
     },
     "execution_count": 28,
     "metadata": {},
     "output_type": "execute_result"
    }
   ],
   "source": [
    "G"
   ]
  },
  {
   "cell_type": "code",
   "execution_count": null,
   "metadata": {},
   "outputs": [],
   "source": [
    "for i in range(len(a)):\n",
    "    print('i', i)\n",
    "    for j in range(2):\n",
    "        print('j', j)\n",
    "        idx = a[i,j]\n",
    "        print('idx', idx)\n",
    "        print(G[idx])\n",
    "        print('---')"
   ]
  }
 ],
 "metadata": {
  "kernelspec": {
   "display_name": "Python 3.9.12 ('sebastien')",
   "language": "python",
   "name": "python3"
  },
  "language_info": {
   "codemirror_mode": {
    "name": "ipython",
    "version": 3
   },
   "file_extension": ".py",
   "mimetype": "text/x-python",
   "name": "python",
   "nbconvert_exporter": "python",
   "pygments_lexer": "ipython3",
   "version": "3.9.12"
  },
  "orig_nbformat": 4,
  "vscode": {
   "interpreter": {
    "hash": "b8cb79f426f19480c33c0271594ae375dbbb0f2fb504f51c94cf7d8cd3ffd656"
   }
  }
 },
 "nbformat": 4,
 "nbformat_minor": 2
}
