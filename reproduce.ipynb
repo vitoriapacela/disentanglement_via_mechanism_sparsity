{
 "cells": [
  {
   "cell_type": "code",
   "execution_count": 1,
   "metadata": {},
   "outputs": [],
   "source": [
    "import argparse\n",
    "import os\n",
    "import sys\n",
    "import json\n",
    "import shutil\n",
    "import pathlib\n",
    "import random\n",
    "from itertools import islice\n",
    "import time\n",
    "from copy import deepcopy\n",
    "import math\n",
    "from pprint import pprint\n",
    "from qj_global import qj\n",
    "import logging\n",
    "\n",
    "try:\n",
    "    from comet_ml import Experiment\n",
    "    COMET_AVAIL = True\n",
    "except:\n",
    "    COMET_AVAIL = False\n",
    "\n",
    "import matplotlib.pyplot as plt\n",
    "import numpy as np\n",
    "import torch\n",
    "import torch.nn.functional as F\n",
    "import torch.optim as optim\n",
    "import torch.utils.data as data\n",
    "\n",
    "from ignite.engine import Engine, Events\n",
    "from ignite.handlers import Checkpoint, DiskSaver, Timer, TerminateOnNan, TimeLimit\n",
    "from ignite.metrics import RunningAverage\n",
    "from ignite.contrib.metrics import GpuInfo\n",
    "from ignite.utils import setup_logger\n",
    "\n",
    "# adding the folder containing the folder `disentanglement_via_mechanism_sparsity` to sys.path\n",
    "# sys.path.insert(0, str(pathlib.Path(__file__).parent.parent))\n",
    "sys.path.insert(0, str('/Users/vitoria/Documents/GitHub/'))\n",
    "from disentanglement_via_mechanism_sparsity.universal_logger.logger import UniversalLogger\n",
    "from disentanglement_via_mechanism_sparsity.metrics import MyMetrics, linear_regression_metric, mean_corr_coef, edge_errors\n",
    "from disentanglement_via_mechanism_sparsity.plot import plot_01_matrix\n",
    "from disentanglement_via_mechanism_sparsity.data.synthetic import get_ToyManifoldDatasets\n",
    "from disentanglement_via_mechanism_sparsity.model.ilcm_vae import ILCM_VAE\n",
    "from disentanglement_via_mechanism_sparsity.model.latent_models_vae import FCGaussianLatentModel\n"
   ]
  },
  {
   "cell_type": "code",
   "execution_count": 2,
   "metadata": {},
   "outputs": [],
   "source": [
    "manifold = \"nn\"\n",
    "transition_model = \"action_sparsity_trivial\"\n",
    "# transition_model = \"action_sparsity_non_trivial\""
   ]
  },
  {
   "cell_type": "code",
   "execution_count": 3,
   "metadata": {},
   "outputs": [],
   "source": [
    "datasets = get_ToyManifoldDatasets(manifold, transition_model, split=(0.8, 0.1, 0.1),\n",
    "                                       z_dim=10, x_dim=20, num_samples=int(1e6),\n",
    "                                       no_norm=True, discrete=True)"
   ]
  },
  {
   "cell_type": "code",
   "execution_count": 4,
   "metadata": {},
   "outputs": [],
   "source": [
    "train_loader = data.DataLoader(datasets[4], batch_size=500, shuffle=False, drop_last=True)"
   ]
  },
  {
   "cell_type": "code",
   "execution_count": 5,
   "metadata": {},
   "outputs": [
    {
     "data": {
      "text/plain": [
       "<torch.utils.data.dataloader.DataLoader at 0x7fc369aa2e20>"
      ]
     },
     "execution_count": 5,
     "metadata": {},
     "output_type": "execute_result"
    }
   ],
   "source": [
    "train_loader"
   ]
  },
  {
   "cell_type": "code",
   "execution_count": 6,
   "metadata": {},
   "outputs": [],
   "source": [
    "train_batch = next(iter(train_loader))"
   ]
  },
  {
   "cell_type": "code",
   "execution_count": 22,
   "metadata": {},
   "outputs": [
    {
     "data": {
      "text/plain": [
       "torch.Size([500, 1, 5, 20])"
      ]
     },
     "execution_count": 22,
     "metadata": {},
     "output_type": "execute_result"
    }
   ],
   "source": [
    "train_batch[7].shape"
   ]
  },
  {
   "cell_type": "code",
   "execution_count": 18,
   "metadata": {},
   "outputs": [
    {
     "data": {
      "text/plain": [
       "torch.Size([500, 1, 5, 10])"
      ]
     },
     "execution_count": 18,
     "metadata": {},
     "output_type": "execute_result"
    }
   ],
   "source": [
    "train_batch[5].shape"
   ]
  },
  {
   "cell_type": "code",
   "execution_count": 15,
   "metadata": {},
   "outputs": [
    {
     "data": {
      "text/plain": [
       "8"
      ]
     },
     "execution_count": 15,
     "metadata": {},
     "output_type": "execute_result"
    }
   ],
   "source": [
    "len(datasets[4].__getitem__(5))"
   ]
  },
  {
   "cell_type": "code",
   "execution_count": 9,
   "metadata": {},
   "outputs": [
    {
     "data": {
      "text/plain": [
       "torch.Size([800000, 5, 20])"
      ]
     },
     "execution_count": 9,
     "metadata": {},
     "output_type": "execute_result"
    }
   ],
   "source": [
    "datasets[4].disc_x.shape"
   ]
  },
  {
   "cell_type": "code",
   "execution_count": 10,
   "metadata": {},
   "outputs": [
    {
     "data": {
      "text/plain": [
       "torch.Size([800000, 5, 20])"
      ]
     },
     "execution_count": 10,
     "metadata": {},
     "output_type": "execute_result"
    }
   ],
   "source": [
    "datasets[4].p_x.shape"
   ]
  },
  {
   "cell_type": "code",
   "execution_count": 11,
   "metadata": {},
   "outputs": [
    {
     "data": {
      "text/plain": [
       "torch.Size([800000, 5, 10])"
      ]
     },
     "execution_count": 11,
     "metadata": {},
     "output_type": "execute_result"
    }
   ],
   "source": [
    "datasets[4].disc_z.shape"
   ]
  },
  {
   "cell_type": "code",
   "execution_count": 12,
   "metadata": {},
   "outputs": [
    {
     "data": {
      "text/plain": [
       "torch.Size([800000, 5, 10])"
      ]
     },
     "execution_count": 12,
     "metadata": {},
     "output_type": "execute_result"
    }
   ],
   "source": [
    "datasets[4].p_z.shape"
   ]
  },
  {
   "cell_type": "code",
   "execution_count": null,
   "metadata": {},
   "outputs": [],
   "source": []
  }
 ],
 "metadata": {
  "interpreter": {
   "hash": "b8cb79f426f19480c33c0271594ae375dbbb0f2fb504f51c94cf7d8cd3ffd656"
  },
  "kernelspec": {
   "display_name": "Python 3.9.5 ('sebastien')",
   "language": "python",
   "name": "python3"
  },
  "language_info": {
   "codemirror_mode": {
    "name": "ipython",
    "version": 3
   },
   "file_extension": ".py",
   "mimetype": "text/x-python",
   "name": "python",
   "nbconvert_exporter": "python",
   "pygments_lexer": "ipython3",
   "version": "3.9.5"
  },
  "orig_nbformat": 4
 },
 "nbformat": 4,
 "nbformat_minor": 2
}
